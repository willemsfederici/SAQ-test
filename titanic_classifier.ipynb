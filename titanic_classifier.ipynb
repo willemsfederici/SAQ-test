{
 "cells": [
  {
   "cell_type": "code",
   "execution_count": 2,
   "metadata": {},
   "outputs": [],
   "source": [
    "from sklearn.ensemble import RandomForestClassifier\n",
    "from joblib import dump, load\n",
    "from ipywidgets import *\n",
    "import numpy as np\n",
    "import matplotlib.pyplot as plt"
   ]
  },
  {
   "cell_type": "markdown",
   "metadata": {},
   "source": [
    "# Titanic - Modèle prédictif survie"
   ]
  },
  {
   "cell_type": "code",
   "execution_count": 3,
   "metadata": {},
   "outputs": [
    {
     "data": {
      "application/vnd.jupyter.widget-view+json": {
       "model_id": "40344a376a6e40f1aef5359c1e21961f",
       "version_major": 2,
       "version_minor": 0
      },
      "text/plain": [
       "Image(value=b'\\x89PNG\\r\\n\\x1a\\n\\x00\\x00\\x00\\rIHDR\\x00\\x00\\x01\\xf4\\x00\\x00\\x00\\xfa\\x08\\x03\\x00\\x00\\x00`uE|\\x00\\…"
      ]
     },
     "metadata": {},
     "output_type": "display_data"
    }
   ],
   "source": [
    "# Télécharger l'image\n",
    "file = open(\"saq-logo-caroussel.png\", \"rb\") # On a juste à remplacer le nom de notre image\n",
    "image = file.read() \n",
    "widgets.Image(\n",
    "    value=image,\n",
    "    format='png',\n",
    "    width=450,\n",
    "    height=650,\n",
    ")"
   ]
  },
  {
   "cell_type": "code",
   "execution_count": 4,
   "metadata": {},
   "outputs": [],
   "source": [
    "# Télécharger le model\n",
    "model = load('final_model.sav') \n",
    "output = widgets.Output()\n",
    "lbl_pred = widgets.Label() \n",
    "btn_run = widgets.Button(description='Taux de survie')"
   ]
  },
  {
   "cell_type": "code",
   "execution_count": 113,
   "metadata": {},
   "outputs": [],
   "source": [
    "style = {'description_width': 'initial'}\n",
    "\n",
    "model = model\n",
    "output = widgets.Output()\n",
    "lbl_pred = widgets.Label() \n",
    "btn_run = widgets.Button(description='Classify')\n",
    "\n",
    "a = widgets.FloatSlider(description='Age:', value=0, min=5, max=99, style=style)\n",
    "b = widgets.FloatSlider(description='Sex:', value=0, min=0, max=1,  style=style)\n",
    "c = widgets.FloatSlider(description='Pclass:', value=1, min=1, max=3,  style=style)\n",
    "\n",
    "\n",
    "hbox1 = widgets.HBox([a, b, c, d])\n",
    "\n",
    "# Model Feature Importance\n",
    "features = np.array(['Age', 'Sex', 'Pclass'])\n",
    "\n",
    "\n",
    "def abc_classifier(change):\n",
    "    lbl_pred.value = ''\n",
    "    output.clear_output()\n",
    "    with output:\n",
    "      # a.value = change['new']\n",
    "      # b.value = change['new']\n",
    "      # c.value = change['new']\n",
    "      data = [[a.value, b.value, c.value]]\n",
    "      pred = model.predict(data)\n",
    "      proba = model.predict_proba(data)\n",
    "      lbl_pred.value = f'Classe de survie {pred[0]} avec une probabilité de {proba[0][pred[0]-1]:.2f}%'\n",
    "      print(\"--------------------------------------------------\")\n",
    "      print(lbl_pred.value)\n",
    "      print(\"--------------------------------------------------\")\n",
    "#       sorted_idx = model.feature_importances_.argsort()\n",
    "#       plt.barh(features[sorted_idx], model.feature_importances_[sorted_idx])\n",
    "#       plt.xlabel(\"Random Forest Feature Importance\")"
   ]
  },
  {
   "cell_type": "code",
   "execution_count": 114,
   "metadata": {},
   "outputs": [],
   "source": [
    "btn_run.on_click(abc_classifier)"
   ]
  },
  {
   "cell_type": "markdown",
   "metadata": {
    "scrolled": false
   },
   "source": [
    "Échelle des notes allant de 0 à 1\n",
    "\n",
    "- 0 : Mort\n",
    "- 1 : Survie"
   ]
  },
  {
   "cell_type": "code",
   "execution_count": 115,
   "metadata": {},
   "outputs": [
    {
     "data": {
      "application/vnd.jupyter.widget-view+json": {
       "model_id": "4e15b9c83ce040f1bba7607b1b9c935b",
       "version_major": 2,
       "version_minor": 0
      },
      "text/plain": [
       "VBox(children=(Label(value='Choissisez les valeurs'), HBox(children=(FloatSlider(value=1.0, description='fixed…"
      ]
     },
     "metadata": {},
     "output_type": "display_data"
    }
   ],
   "source": [
    "display(VBox([widgets.Label('Choissisez les valeurs'), hbox1, hbox2, hbox3, widgets.Label(''), btn_run, widgets.Label(''), output]))"
   ]
  },
  {
   "cell_type": "code",
   "execution_count": null,
   "metadata": {},
   "outputs": [],
   "source": []
  }
 ],
 "metadata": {
  "jupytext": {
   "split_at_heading": true
  },
  "kernelspec": {
   "display_name": "Python 3",
   "language": "python",
   "name": "python3"
  },
  "language_info": {
   "codemirror_mode": {
    "name": "ipython",
    "version": 3
   },
   "file_extension": ".py",
   "mimetype": "text/x-python",
   "name": "python",
   "nbconvert_exporter": "python",
   "pygments_lexer": "ipython3",
   "version": "3.7.8"
  },
  "toc": {
   "base_numbering": 1,
   "nav_menu": {},
   "number_sections": false,
   "sideBar": true,
   "skip_h1_title": true,
   "title_cell": "Table of Contents",
   "title_sidebar": "Contents",
   "toc_cell": false,
   "toc_position": {},
   "toc_section_display": true,
   "toc_window_display": false
  }
 },
 "nbformat": 4,
 "nbformat_minor": 2
}
